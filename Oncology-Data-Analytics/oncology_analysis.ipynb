{
  "cells": [
    {
      "cell_type": "markdown",
      "metadata": {
        "id": "view-in-github",
        "colab_type": "text"
      },
      "source": [
        "<a href=\"https://colab.research.google.com/github/lillycodebreaker/Oncology-Data-Analytics/blob/main/oncology_analysis.ipynb\" target=\"_parent\"><img src=\"https://colab.research.google.com/assets/colab-badge.svg\" alt=\"Open In Colab\"/></a>"
      ]
    },
    {
      "cell_type": "code",
      "execution_count": 1,
      "id": "160926be",
      "metadata": {
        "colab": {
          "base_uri": "https://localhost:8080/",
          "height": 416
        },
        "id": "160926be",
        "outputId": "bb4bf35b-e1ab-4ec0-ca5b-4e3620c1e8d1"
      },
      "outputs": [
        {
          "output_type": "error",
          "ename": "OSError",
          "evalue": "[E050] Can't find model 'en_core_sci_md'. It doesn't seem to be a Python package or a valid path to a data directory.",
          "traceback": [
            "\u001b[0;31m---------------------------------------------------------------------------\u001b[0m",
            "\u001b[0;31mOSError\u001b[0m                                   Traceback (most recent call last)",
            "\u001b[0;32m<ipython-input-1-ad0f81a023b5>\u001b[0m in \u001b[0;36m<cell line: 11>\u001b[0;34m()\u001b[0m\n\u001b[1;32m      9\u001b[0m \u001b[0;34m\u001b[0m\u001b[0m\n\u001b[1;32m     10\u001b[0m \u001b[0;31m# Load a pre-trained NLP model for medical text\u001b[0m\u001b[0;34m\u001b[0m\u001b[0;34m\u001b[0m\u001b[0m\n\u001b[0;32m---> 11\u001b[0;31m \u001b[0mnlp\u001b[0m \u001b[0;34m=\u001b[0m \u001b[0mspacy\u001b[0m\u001b[0;34m.\u001b[0m\u001b[0mload\u001b[0m\u001b[0;34m(\u001b[0m\u001b[0;34m\"en_core_sci_md\"\u001b[0m\u001b[0;34m)\u001b[0m  \u001b[0;31m# Example: Use a specialized model for scientific/medical text\u001b[0m\u001b[0;34m\u001b[0m\u001b[0;34m\u001b[0m\u001b[0m\n\u001b[0m\u001b[1;32m     12\u001b[0m \u001b[0;34m\u001b[0m\u001b[0m\n\u001b[1;32m     13\u001b[0m \u001b[0;31m# Example unstructured text (a clinical note)\u001b[0m\u001b[0;34m\u001b[0m\u001b[0;34m\u001b[0m\u001b[0m\n",
            "\u001b[0;32m/usr/local/lib/python3.10/dist-packages/spacy/__init__.py\u001b[0m in \u001b[0;36mload\u001b[0;34m(name, vocab, disable, enable, exclude, config)\u001b[0m\n\u001b[1;32m     49\u001b[0m     \u001b[0mRETURNS\u001b[0m \u001b[0;34m(\u001b[0m\u001b[0mLanguage\u001b[0m\u001b[0;34m)\u001b[0m\u001b[0;34m:\u001b[0m \u001b[0mThe\u001b[0m \u001b[0mloaded\u001b[0m \u001b[0mnlp\u001b[0m \u001b[0mobject\u001b[0m\u001b[0;34m.\u001b[0m\u001b[0;34m\u001b[0m\u001b[0;34m\u001b[0m\u001b[0m\n\u001b[1;32m     50\u001b[0m     \"\"\"\n\u001b[0;32m---> 51\u001b[0;31m     return util.load_model(\n\u001b[0m\u001b[1;32m     52\u001b[0m         \u001b[0mname\u001b[0m\u001b[0;34m,\u001b[0m\u001b[0;34m\u001b[0m\u001b[0;34m\u001b[0m\u001b[0m\n\u001b[1;32m     53\u001b[0m         \u001b[0mvocab\u001b[0m\u001b[0;34m=\u001b[0m\u001b[0mvocab\u001b[0m\u001b[0;34m,\u001b[0m\u001b[0;34m\u001b[0m\u001b[0;34m\u001b[0m\u001b[0m\n",
            "\u001b[0;32m/usr/local/lib/python3.10/dist-packages/spacy/util.py\u001b[0m in \u001b[0;36mload_model\u001b[0;34m(name, vocab, disable, enable, exclude, config)\u001b[0m\n\u001b[1;32m    470\u001b[0m     \u001b[0;32mif\u001b[0m \u001b[0mname\u001b[0m \u001b[0;32min\u001b[0m \u001b[0mOLD_MODEL_SHORTCUTS\u001b[0m\u001b[0;34m:\u001b[0m\u001b[0;34m\u001b[0m\u001b[0;34m\u001b[0m\u001b[0m\n\u001b[1;32m    471\u001b[0m         \u001b[0;32mraise\u001b[0m \u001b[0mIOError\u001b[0m\u001b[0;34m(\u001b[0m\u001b[0mErrors\u001b[0m\u001b[0;34m.\u001b[0m\u001b[0mE941\u001b[0m\u001b[0;34m.\u001b[0m\u001b[0mformat\u001b[0m\u001b[0;34m(\u001b[0m\u001b[0mname\u001b[0m\u001b[0;34m=\u001b[0m\u001b[0mname\u001b[0m\u001b[0;34m,\u001b[0m \u001b[0mfull\u001b[0m\u001b[0;34m=\u001b[0m\u001b[0mOLD_MODEL_SHORTCUTS\u001b[0m\u001b[0;34m[\u001b[0m\u001b[0mname\u001b[0m\u001b[0;34m]\u001b[0m\u001b[0;34m)\u001b[0m\u001b[0;34m)\u001b[0m  \u001b[0;31m# type: ignore[index]\u001b[0m\u001b[0;34m\u001b[0m\u001b[0;34m\u001b[0m\u001b[0m\n\u001b[0;32m--> 472\u001b[0;31m     \u001b[0;32mraise\u001b[0m \u001b[0mIOError\u001b[0m\u001b[0;34m(\u001b[0m\u001b[0mErrors\u001b[0m\u001b[0;34m.\u001b[0m\u001b[0mE050\u001b[0m\u001b[0;34m.\u001b[0m\u001b[0mformat\u001b[0m\u001b[0;34m(\u001b[0m\u001b[0mname\u001b[0m\u001b[0;34m=\u001b[0m\u001b[0mname\u001b[0m\u001b[0;34m)\u001b[0m\u001b[0;34m)\u001b[0m\u001b[0;34m\u001b[0m\u001b[0;34m\u001b[0m\u001b[0m\n\u001b[0m\u001b[1;32m    473\u001b[0m \u001b[0;34m\u001b[0m\u001b[0m\n\u001b[1;32m    474\u001b[0m \u001b[0;34m\u001b[0m\u001b[0m\n",
            "\u001b[0;31mOSError\u001b[0m: [E050] Can't find model 'en_core_sci_md'. It doesn't seem to be a Python package or a valid path to a data directory."
          ]
        }
      ],
      "source": [
        "pip install scispacy"
      ]
    },
    {
      "cell_type": "code",
      "source": [
        "pip install https://s3-us-west-2.amazonaws.com/ai2-s2-scispacy/releases/v0.5.0/en_core_sci_md-0.5.0.tar.gz\n"
      ],
      "metadata": {
        "colab": {
          "base_uri": "https://localhost:8080/",
          "height": 1000
        },
        "id": "v59kCUGBqKOB",
        "outputId": "edfacb30-7572-4b7b-a8c3-d0cbfb574faf"
      },
      "id": "v59kCUGBqKOB",
      "execution_count": 4,
      "outputs": [
        {
          "output_type": "stream",
          "name": "stdout",
          "text": [
            "Collecting https://s3-us-west-2.amazonaws.com/ai2-s2-scispacy/releases/v0.5.0/en_core_sci_md-0.5.0.tar.gz\n",
            "  Downloading https://s3-us-west-2.amazonaws.com/ai2-s2-scispacy/releases/v0.5.0/en_core_sci_md-0.5.0.tar.gz (120.2 MB)\n",
            "\u001b[2K     \u001b[90m━━━━━━━━━━━━━━━━━━━━━━━━━━━━━━━━━━━━━━━━\u001b[0m \u001b[32m120.2/120.2 MB\u001b[0m \u001b[31m8.0 MB/s\u001b[0m eta \u001b[36m0:00:00\u001b[0m\n",
            "\u001b[?25h  Preparing metadata (setup.py) ... \u001b[?25l\u001b[?25hdone\n",
            "Collecting spacy<3.3.0,>=3.2.3 (from en_core_sci_md==0.5.0)\n",
            "  Downloading spacy-3.2.6-cp310-cp310-manylinux_2_17_x86_64.manylinux2014_x86_64.whl.metadata (23 kB)\n",
            "Requirement already satisfied: spacy-legacy<3.1.0,>=3.0.8 in /usr/local/lib/python3.10/dist-packages (from spacy<3.3.0,>=3.2.3->en_core_sci_md==0.5.0) (3.0.12)\n",
            "Requirement already satisfied: spacy-loggers<2.0.0,>=1.0.0 in /usr/local/lib/python3.10/dist-packages (from spacy<3.3.0,>=3.2.3->en_core_sci_md==0.5.0) (1.0.5)\n",
            "Requirement already satisfied: murmurhash<1.1.0,>=0.28.0 in /usr/local/lib/python3.10/dist-packages (from spacy<3.3.0,>=3.2.3->en_core_sci_md==0.5.0) (1.0.10)\n",
            "Requirement already satisfied: cymem<2.1.0,>=2.0.2 in /usr/local/lib/python3.10/dist-packages (from spacy<3.3.0,>=3.2.3->en_core_sci_md==0.5.0) (2.0.8)\n",
            "Requirement already satisfied: preshed<3.1.0,>=3.0.2 in /usr/local/lib/python3.10/dist-packages (from spacy<3.3.0,>=3.2.3->en_core_sci_md==0.5.0) (3.0.9)\n",
            "Collecting thinc<8.1.0,>=8.0.12 (from spacy<3.3.0,>=3.2.3->en_core_sci_md==0.5.0)\n",
            "  Downloading thinc-8.0.17-cp310-cp310-manylinux_2_17_x86_64.manylinux2014_x86_64.whl.metadata (14 kB)\n",
            "Requirement already satisfied: blis<0.8.0,>=0.4.0 in /usr/local/lib/python3.10/dist-packages (from spacy<3.3.0,>=3.2.3->en_core_sci_md==0.5.0) (0.7.11)\n",
            "Collecting wasabi<1.1.0,>=0.8.1 (from spacy<3.3.0,>=3.2.3->en_core_sci_md==0.5.0)\n",
            "  Downloading wasabi-0.10.1-py3-none-any.whl.metadata (28 kB)\n",
            "Requirement already satisfied: srsly<3.0.0,>=2.4.1 in /usr/local/lib/python3.10/dist-packages (from spacy<3.3.0,>=3.2.3->en_core_sci_md==0.5.0) (2.4.8)\n",
            "Requirement already satisfied: catalogue<2.1.0,>=2.0.6 in /usr/local/lib/python3.10/dist-packages (from spacy<3.3.0,>=3.2.3->en_core_sci_md==0.5.0) (2.0.10)\n",
            "Collecting typer<0.5.0,>=0.3.0 (from spacy<3.3.0,>=3.2.3->en_core_sci_md==0.5.0)\n",
            "  Downloading typer-0.4.2-py3-none-any.whl.metadata (12 kB)\n",
            "Collecting pathy>=0.3.5 (from spacy<3.3.0,>=3.2.3->en_core_sci_md==0.5.0)\n",
            "  Downloading pathy-0.11.0-py3-none-any.whl.metadata (16 kB)\n",
            "Collecting smart-open<7.0.0,>=5.2.1 (from spacy<3.3.0,>=3.2.3->en_core_sci_md==0.5.0)\n",
            "  Downloading smart_open-6.4.0-py3-none-any.whl.metadata (21 kB)\n",
            "Requirement already satisfied: tqdm<5.0.0,>=4.38.0 in /usr/local/lib/python3.10/dist-packages (from spacy<3.3.0,>=3.2.3->en_core_sci_md==0.5.0) (4.66.5)\n",
            "Requirement already satisfied: numpy>=1.15.0 in /usr/local/lib/python3.10/dist-packages (from spacy<3.3.0,>=3.2.3->en_core_sci_md==0.5.0) (1.26.4)\n",
            "Requirement already satisfied: requests<3.0.0,>=2.13.0 in /usr/local/lib/python3.10/dist-packages (from spacy<3.3.0,>=3.2.3->en_core_sci_md==0.5.0) (2.32.3)\n",
            "Collecting pydantic!=1.8,!=1.8.1,<1.9.0,>=1.7.4 (from spacy<3.3.0,>=3.2.3->en_core_sci_md==0.5.0)\n",
            "  Downloading pydantic-1.8.2-py3-none-any.whl.metadata (103 kB)\n",
            "\u001b[2K     \u001b[90m━━━━━━━━━━━━━━━━━━━━━━━━━━━━━━━━━━━━━━━━\u001b[0m \u001b[32m103.1/103.1 kB\u001b[0m \u001b[31m6.8 MB/s\u001b[0m eta \u001b[36m0:00:00\u001b[0m\n",
            "\u001b[?25hRequirement already satisfied: jinja2 in /usr/local/lib/python3.10/dist-packages (from spacy<3.3.0,>=3.2.3->en_core_sci_md==0.5.0) (3.1.4)\n",
            "Requirement already satisfied: setuptools in /usr/local/lib/python3.10/dist-packages (from spacy<3.3.0,>=3.2.3->en_core_sci_md==0.5.0) (71.0.4)\n",
            "Requirement already satisfied: packaging>=20.0 in /usr/local/lib/python3.10/dist-packages (from spacy<3.3.0,>=3.2.3->en_core_sci_md==0.5.0) (24.1)\n",
            "Collecting typing-extensions<4.6.0,>=3.7.4.1 (from spacy<3.3.0,>=3.2.3->en_core_sci_md==0.5.0)\n",
            "  Downloading typing_extensions-4.5.0-py3-none-any.whl.metadata (8.5 kB)\n",
            "Requirement already satisfied: langcodes<4.0.0,>=3.2.0 in /usr/local/lib/python3.10/dist-packages (from spacy<3.3.0,>=3.2.3->en_core_sci_md==0.5.0) (3.4.0)\n",
            "Requirement already satisfied: language-data>=1.2 in /usr/local/lib/python3.10/dist-packages (from langcodes<4.0.0,>=3.2.0->spacy<3.3.0,>=3.2.3->en_core_sci_md==0.5.0) (1.2.0)\n",
            "Collecting pathlib-abc==0.1.1 (from pathy>=0.3.5->spacy<3.3.0,>=3.2.3->en_core_sci_md==0.5.0)\n",
            "  Downloading pathlib_abc-0.1.1-py3-none-any.whl.metadata (18 kB)\n",
            "Requirement already satisfied: charset-normalizer<4,>=2 in /usr/local/lib/python3.10/dist-packages (from requests<3.0.0,>=2.13.0->spacy<3.3.0,>=3.2.3->en_core_sci_md==0.5.0) (3.3.2)\n",
            "Requirement already satisfied: idna<4,>=2.5 in /usr/local/lib/python3.10/dist-packages (from requests<3.0.0,>=2.13.0->spacy<3.3.0,>=3.2.3->en_core_sci_md==0.5.0) (3.8)\n",
            "Requirement already satisfied: urllib3<3,>=1.21.1 in /usr/local/lib/python3.10/dist-packages (from requests<3.0.0,>=2.13.0->spacy<3.3.0,>=3.2.3->en_core_sci_md==0.5.0) (2.0.7)\n",
            "Requirement already satisfied: certifi>=2017.4.17 in /usr/local/lib/python3.10/dist-packages (from requests<3.0.0,>=2.13.0->spacy<3.3.0,>=3.2.3->en_core_sci_md==0.5.0) (2024.8.30)\n",
            "Requirement already satisfied: click<9.0.0,>=7.1.1 in /usr/local/lib/python3.10/dist-packages (from typer<0.5.0,>=0.3.0->spacy<3.3.0,>=3.2.3->en_core_sci_md==0.5.0) (8.1.7)\n",
            "Requirement already satisfied: MarkupSafe>=2.0 in /usr/local/lib/python3.10/dist-packages (from jinja2->spacy<3.3.0,>=3.2.3->en_core_sci_md==0.5.0) (2.1.5)\n",
            "Requirement already satisfied: marisa-trie>=0.7.7 in /usr/local/lib/python3.10/dist-packages (from language-data>=1.2->langcodes<4.0.0,>=3.2.0->spacy<3.3.0,>=3.2.3->en_core_sci_md==0.5.0) (1.2.0)\n",
            "Downloading spacy-3.2.6-cp310-cp310-manylinux_2_17_x86_64.manylinux2014_x86_64.whl (6.1 MB)\n",
            "\u001b[2K   \u001b[90m━━━━━━━━━━━━━━━━━━━━━━━━━━━━━━━━━━━━━━━━\u001b[0m \u001b[32m6.1/6.1 MB\u001b[0m \u001b[31m45.4 MB/s\u001b[0m eta \u001b[36m0:00:00\u001b[0m\n",
            "\u001b[?25hDownloading pathy-0.11.0-py3-none-any.whl (47 kB)\n",
            "\u001b[2K   \u001b[90m━━━━━━━━━━━━━━━━━━━━━━━━━━━━━━━━━━━━━━━━\u001b[0m \u001b[32m47.3/47.3 kB\u001b[0m \u001b[31m2.5 MB/s\u001b[0m eta \u001b[36m0:00:00\u001b[0m\n",
            "\u001b[?25hDownloading pathlib_abc-0.1.1-py3-none-any.whl (23 kB)\n",
            "Downloading pydantic-1.8.2-py3-none-any.whl (126 kB)\n",
            "\u001b[2K   \u001b[90m━━━━━━━━━━━━━━━━━━━━━━━━━━━━━━━━━━━━━━━━\u001b[0m \u001b[32m126.0/126.0 kB\u001b[0m \u001b[31m9.2 MB/s\u001b[0m eta \u001b[36m0:00:00\u001b[0m\n",
            "\u001b[?25hDownloading smart_open-6.4.0-py3-none-any.whl (57 kB)\n",
            "\u001b[2K   \u001b[90m━━━━━━━━━━━━━━━━━━━━━━━━━━━━━━━━━━━━━━━━\u001b[0m \u001b[32m57.0/57.0 kB\u001b[0m \u001b[31m4.2 MB/s\u001b[0m eta \u001b[36m0:00:00\u001b[0m\n",
            "\u001b[?25hDownloading thinc-8.0.17-cp310-cp310-manylinux_2_17_x86_64.manylinux2014_x86_64.whl (659 kB)\n",
            "\u001b[2K   \u001b[90m━━━━━━━━━━━━━━━━━━━━━━━━━━━━━━━━━━━━━━━━\u001b[0m \u001b[32m659.5/659.5 kB\u001b[0m \u001b[31m27.3 MB/s\u001b[0m eta \u001b[36m0:00:00\u001b[0m\n",
            "\u001b[?25hDownloading typer-0.4.2-py3-none-any.whl (27 kB)\n",
            "Downloading typing_extensions-4.5.0-py3-none-any.whl (27 kB)\n",
            "Downloading wasabi-0.10.1-py3-none-any.whl (26 kB)\n",
            "Building wheels for collected packages: en_core_sci_md\n",
            "  Building wheel for en_core_sci_md (setup.py) ... \u001b[?25l\u001b[?25hdone\n",
            "  Created wheel for en_core_sci_md: filename=en_core_sci_md-0.5.0-py3-none-any.whl size=120252784 sha256=9489379ffae988bca5f13d7892c30908c00c50e077be94c5d759652e4cbe2a34\n",
            "  Stored in directory: /root/.cache/pip/wheels/96/61/7c/4f20424bc721af69e3a01337f45c41f5bef510f6fe9c3c3d43\n",
            "Successfully built en_core_sci_md\n",
            "Installing collected packages: wasabi, typing-extensions, typer, smart-open, pathlib-abc, pydantic, pathy, thinc, spacy, en_core_sci_md\n",
            "  Attempting uninstall: wasabi\n",
            "    Found existing installation: wasabi 1.1.3\n",
            "    Uninstalling wasabi-1.1.3:\n",
            "      Successfully uninstalled wasabi-1.1.3\n",
            "  Attempting uninstall: typing-extensions\n",
            "    Found existing installation: typing_extensions 4.12.2\n",
            "    Uninstalling typing_extensions-4.12.2:\n",
            "      Successfully uninstalled typing_extensions-4.12.2\n",
            "  Attempting uninstall: typer\n",
            "    Found existing installation: typer 0.12.5\n",
            "    Uninstalling typer-0.12.5:\n",
            "      Successfully uninstalled typer-0.12.5\n",
            "  Attempting uninstall: smart-open\n",
            "    Found existing installation: smart-open 7.0.4\n",
            "    Uninstalling smart-open-7.0.4:\n",
            "      Successfully uninstalled smart-open-7.0.4\n",
            "  Attempting uninstall: pydantic\n",
            "    Found existing installation: pydantic 2.8.2\n",
            "    Uninstalling pydantic-2.8.2:\n",
            "      Successfully uninstalled pydantic-2.8.2\n",
            "  Attempting uninstall: thinc\n",
            "    Found existing installation: thinc 8.2.5\n",
            "    Uninstalling thinc-8.2.5:\n",
            "      Successfully uninstalled thinc-8.2.5\n",
            "  Attempting uninstall: spacy\n",
            "    Found existing installation: spacy 3.7.6\n",
            "    Uninstalling spacy-3.7.6:\n",
            "      Successfully uninstalled spacy-3.7.6\n",
            "\u001b[31mERROR: pip's dependency resolver does not currently take into account all the packages that are installed. This behaviour is the source of the following dependency conflicts.\n",
            "sqlalchemy 2.0.32 requires typing-extensions>=4.6.0, but you have typing-extensions 4.5.0 which is incompatible.\n",
            "albumentations 1.4.14 requires pydantic>=2.7.0, but you have pydantic 1.8.2 which is incompatible.\n",
            "albumentations 1.4.14 requires typing-extensions>=4.9.0, but you have typing-extensions 4.5.0 which is incompatible.\n",
            "en-core-web-sm 3.7.1 requires spacy<3.8.0,>=3.7.2, but you have spacy 3.2.6 which is incompatible.\n",
            "pydantic-core 2.20.1 requires typing-extensions!=4.7.0,>=4.6.0, but you have typing-extensions 4.5.0 which is incompatible.\n",
            "scispacy 0.5.4 requires spacy<3.8.0,>=3.7.0, but you have spacy 3.2.6 which is incompatible.\n",
            "torch 2.4.0+cu121 requires typing-extensions>=4.8.0, but you have typing-extensions 4.5.0 which is incompatible.\n",
            "typeguard 4.3.0 requires typing-extensions>=4.10.0, but you have typing-extensions 4.5.0 which is incompatible.\u001b[0m\u001b[31m\n",
            "\u001b[0mSuccessfully installed en_core_sci_md-0.5.0 pathlib-abc-0.1.1 pathy-0.11.0 pydantic-1.8.2 smart-open-6.4.0 spacy-3.2.6 thinc-8.0.17 typer-0.4.2 typing-extensions-4.5.0 wasabi-0.10.1\n"
          ]
        },
        {
          "output_type": "display_data",
          "data": {
            "application/vnd.colab-display-data+json": {
              "pip_warning": {
                "packages": [
                  "pydantic",
                  "spacy",
                  "thinc",
                  "wasabi"
                ]
              },
              "id": "1e363ae183d44561bef960d589a3f3a4"
            }
          },
          "metadata": {}
        }
      ]
    },
    {
      "cell_type": "code",
      "source": [
        "# data extraction from unstructured text, data integration, and basic analysis.\n",
        "# This example assumes you have a dataset containing both structured and unstructured data related to oncology.\n",
        "\n",
        "### 1. **Extract Information from Unstructured Data:**\n",
        "\n",
        "import spacy\n",
        "from spacy import displacy\n",
        "from spacy.tokens import DocBin\n",
        "\n",
        "# Load a pre-trained NLP model for medical text\n",
        "nlp = spacy.load(\"en_core_sci_md\")  # Example: Use a specialized model for scientific/medical text\n",
        "\n",
        "# Example unstructured text (a clinical note)\n",
        "clinical_note = \"\"\"\n",
        "The patient presents with a mass in the left lung. Differential diagnoses include lung carcinoma,\n",
        "tuberculosis, or pneumonia. An oncology panel is ordered, and the patient shows symptoms of dyspnea\n",
        "and hemoptysis. The ICD code for lung carcinoma is C34.90.\n",
        "\"\"\"\n",
        "\n",
        "# Process the text\n",
        "doc = nlp(clinical_note)\n",
        "\n",
        "# Extract named entities\n",
        "for ent in doc.ents:\n",
        "    print(ent.text, ent.label_)\n",
        "\n",
        "# Optional: Visualize entities\n",
        "displacy.render(doc, style=\"ent\")"
      ],
      "metadata": {
        "colab": {
          "base_uri": "https://localhost:8080/",
          "height": 552
        },
        "id": "1C_u9_sKpEPD",
        "outputId": "576a4971-8e8a-467d-ab23-78d7bc919809"
      },
      "id": "1C_u9_sKpEPD",
      "execution_count": 1,
      "outputs": [
        {
          "output_type": "stream",
          "name": "stderr",
          "text": [
            "/usr/local/lib/python3.10/dist-packages/torch/__init__.py:955: UserWarning: torch.set_default_tensor_type() is deprecated as of PyTorch 2.1, please use torch.set_default_dtype() and torch.set_default_device() as alternatives. (Triggered internally at ../torch/csrc/tensor/python_tensor.cpp:432.)\n",
            "  _C._set_default_tensor_type(t)\n"
          ]
        },
        {
          "output_type": "stream",
          "name": "stdout",
          "text": [
            "patient ENTITY\n",
            "mass ENTITY\n",
            "left lung ENTITY\n",
            "Differential diagnoses ENTITY\n",
            "lung carcinoma ENTITY\n",
            "pneumonia ENTITY\n",
            "oncology panel ENTITY\n",
            "ordered ENTITY\n",
            "patient ENTITY\n",
            "symptoms ENTITY\n",
            "dyspnea\n",
            " ENTITY\n",
            "hemoptysis ENTITY\n",
            "ICD ENTITY\n",
            "code ENTITY\n",
            "lung carcinoma ENTITY\n",
            "C34.90 ENTITY\n"
          ]
        },
        {
          "output_type": "execute_result",
          "data": {
            "text/plain": [
              "'<div class=\"entities\" style=\"line-height: 2.5; direction: ltr\"></br>The \\n<mark class=\"entity\" style=\"background: #ddd; padding: 0.45em 0.6em; margin: 0 0.25em; line-height: 1; border-radius: 0.35em;\">\\n    patient\\n    <span style=\"font-size: 0.8em; font-weight: bold; line-height: 1; border-radius: 0.35em; vertical-align: middle; margin-left: 0.5rem\">ENTITY</span>\\n</mark>\\n presents with a \\n<mark class=\"entity\" style=\"background: #ddd; padding: 0.45em 0.6em; margin: 0 0.25em; line-height: 1; border-radius: 0.35em;\">\\n    mass\\n    <span style=\"font-size: 0.8em; font-weight: bold; line-height: 1; border-radius: 0.35em; vertical-align: middle; margin-left: 0.5rem\">ENTITY</span>\\n</mark>\\n in the \\n<mark class=\"entity\" style=\"background: #ddd; padding: 0.45em 0.6em; margin: 0 0.25em; line-height: 1; border-radius: 0.35em;\">\\n    left lung\\n    <span style=\"font-size: 0.8em; font-weight: bold; line-height: 1; border-radius: 0.35em; vertical-align: middle; margin-left: 0.5rem\">ENTITY</span>\\n</mark>\\n. \\n<mark class=\"entity\" style=\"background: #ddd; padding: 0.45em 0.6em; margin: 0 0.25em; line-height: 1; border-radius: 0.35em;\">\\n    Differential diagnoses\\n    <span style=\"font-size: 0.8em; font-weight: bold; line-height: 1; border-radius: 0.35em; vertical-align: middle; margin-left: 0.5rem\">ENTITY</span>\\n</mark>\\n include \\n<mark class=\"entity\" style=\"background: #ddd; padding: 0.45em 0.6em; margin: 0 0.25em; line-height: 1; border-radius: 0.35em;\">\\n    lung carcinoma\\n    <span style=\"font-size: 0.8em; font-weight: bold; line-height: 1; border-radius: 0.35em; vertical-align: middle; margin-left: 0.5rem\">ENTITY</span>\\n</mark>\\n,</br>tuberculosis, or \\n<mark class=\"entity\" style=\"background: #ddd; padding: 0.45em 0.6em; margin: 0 0.25em; line-height: 1; border-radius: 0.35em;\">\\n    pneumonia\\n    <span style=\"font-size: 0.8em; font-weight: bold; line-height: 1; border-radius: 0.35em; vertical-align: middle; margin-left: 0.5rem\">ENTITY</span>\\n</mark>\\n. An \\n<mark class=\"entity\" style=\"background: #ddd; padding: 0.45em 0.6em; margin: 0 0.25em; line-height: 1; border-radius: 0.35em;\">\\n    oncology panel\\n    <span style=\"font-size: 0.8em; font-weight: bold; line-height: 1; border-radius: 0.35em; vertical-align: middle; margin-left: 0.5rem\">ENTITY</span>\\n</mark>\\n is \\n<mark class=\"entity\" style=\"background: #ddd; padding: 0.45em 0.6em; margin: 0 0.25em; line-height: 1; border-radius: 0.35em;\">\\n    ordered\\n    <span style=\"font-size: 0.8em; font-weight: bold; line-height: 1; border-radius: 0.35em; vertical-align: middle; margin-left: 0.5rem\">ENTITY</span>\\n</mark>\\n, and the \\n<mark class=\"entity\" style=\"background: #ddd; padding: 0.45em 0.6em; margin: 0 0.25em; line-height: 1; border-radius: 0.35em;\">\\n    patient\\n    <span style=\"font-size: 0.8em; font-weight: bold; line-height: 1; border-radius: 0.35em; vertical-align: middle; margin-left: 0.5rem\">ENTITY</span>\\n</mark>\\n shows \\n<mark class=\"entity\" style=\"background: #ddd; padding: 0.45em 0.6em; margin: 0 0.25em; line-height: 1; border-radius: 0.35em;\">\\n    symptoms\\n    <span style=\"font-size: 0.8em; font-weight: bold; line-height: 1; border-radius: 0.35em; vertical-align: middle; margin-left: 0.5rem\">ENTITY</span>\\n</mark>\\n of \\n<mark class=\"entity\" style=\"background: #ddd; padding: 0.45em 0.6em; margin: 0 0.25em; line-height: 1; border-radius: 0.35em;\">\\n    dyspnea\\n\\n    <span style=\"font-size: 0.8em; font-weight: bold; line-height: 1; border-radius: 0.35em; vertical-align: middle; margin-left: 0.5rem\">ENTITY</span>\\n</mark>\\nand \\n<mark class=\"entity\" style=\"background: #ddd; padding: 0.45em 0.6em; margin: 0 0.25em; line-height: 1; border-radius: 0.35em;\">\\n    hemoptysis\\n    <span style=\"font-size: 0.8em; font-weight: bold; line-height: 1; border-radius: 0.35em; vertical-align: middle; margin-left: 0.5rem\">ENTITY</span>\\n</mark>\\n. The \\n<mark class=\"entity\" style=\"background: #ddd; padding: 0.45em 0.6em; margin: 0 0.25em; line-height: 1; border-radius: 0.35em;\">\\n    ICD\\n    <span style=\"font-size: 0.8em; font-weight: bold; line-height: 1; border-radius: 0.35em; vertical-align: middle; margin-left: 0.5rem\">ENTITY</span>\\n</mark>\\n \\n<mark class=\"entity\" style=\"background: #ddd; padding: 0.45em 0.6em; margin: 0 0.25em; line-height: 1; border-radius: 0.35em;\">\\n    code\\n    <span style=\"font-size: 0.8em; font-weight: bold; line-height: 1; border-radius: 0.35em; vertical-align: middle; margin-left: 0.5rem\">ENTITY</span>\\n</mark>\\n for \\n<mark class=\"entity\" style=\"background: #ddd; padding: 0.45em 0.6em; margin: 0 0.25em; line-height: 1; border-radius: 0.35em;\">\\n    lung carcinoma\\n    <span style=\"font-size: 0.8em; font-weight: bold; line-height: 1; border-radius: 0.35em; vertical-align: middle; margin-left: 0.5rem\">ENTITY</span>\\n</mark>\\n is \\n<mark class=\"entity\" style=\"background: #ddd; padding: 0.45em 0.6em; margin: 0 0.25em; line-height: 1; border-radius: 0.35em;\">\\n    C34.90\\n    <span style=\"font-size: 0.8em; font-weight: bold; line-height: 1; border-radius: 0.35em; vertical-align: middle; margin-left: 0.5rem\">ENTITY</span>\\n</mark>\\n.</br></div>'"
            ],
            "application/vnd.google.colaboratory.intrinsic+json": {
              "type": "string"
            }
          },
          "metadata": {},
          "execution_count": 1
        }
      ]
    },
    {
      "cell_type": "code",
      "execution_count": 2,
      "id": "7db2b945",
      "metadata": {
        "colab": {
          "base_uri": "https://localhost:8080/"
        },
        "id": "7db2b945",
        "outputId": "2cd1d8e5-4d6e-4e37-b23b-f02994227942"
      },
      "outputs": [
        {
          "output_type": "stream",
          "name": "stdout",
          "text": [
            "   patient_id  age gender      diagnosis icd_code extracted_icd_code  \\\n",
            "0           1   65      M    Lung Cancer   C34.90             C34.90   \n",
            "1           2   70      F  Breast Cancer  C50.919                NaN   \n",
            "\n",
            "                symptoms                     differential_diagnoses  \n",
            "0  [dyspnea, hemoptysis]  [lung carcinoma, tuberculosis, pneumonia]  \n",
            "1                    NaN                                        NaN  \n"
          ]
        }
      ],
      "source": [
        "### 2. **Integrate Structured and Unstructured Data:**\n",
        "# Combining extracted data with structured patient records.\n",
        "\n",
        "import pandas as pd\n",
        "\n",
        "# Example structured data\n",
        "patient_data = pd.DataFrame({\n",
        "    'patient_id': [1, 2],\n",
        "    'age': [65, 70],\n",
        "    'gender': ['M', 'F'],\n",
        "    'diagnosis': ['Lung Cancer', 'Breast Cancer'],\n",
        "    'icd_code': ['C34.90', 'C50.919']\n",
        "})\n",
        "\n",
        "# Add extracted information to the patient data\n",
        "# Assuming extracted entities and ICD codes are stored in variables\n",
        "extracted_data = {\n",
        "    'patient_id': 1,\n",
        "    'extracted_icd_code': 'C34.90',\n",
        "    'symptoms': ['dyspnea', 'hemoptysis'],\n",
        "    'differential_diagnoses': ['lung carcinoma', 'tuberculosis', 'pneumonia']\n",
        "}\n",
        "\n",
        "# Convert to DataFrame and merge\n",
        "extracted_df = pd.DataFrame([extracted_data])\n",
        "combined_data = pd.merge(patient_data, extracted_df, on='patient_id', how='left')\n",
        "\n",
        "print(combined_data)"
      ]
    },
    {
      "cell_type": "code",
      "source": [
        "### 3. **Perform Differential Diagnosis Analysis:**\n",
        "#Using simple keyword matching for differential diagnosis.\n",
        "\n",
        "def check_differential_diagnosis(diagnosis, differential_list):\n",
        "    if isinstance(differential_list, float): # Check if differential_list is a float (NaN)\n",
        "        return False\n",
        "    return diagnosis.lower() in [d.lower() for d in differential_list]\n",
        "\n",
        "# Example usage\n",
        "combined_data['correct_diagnosis'] = combined_data.apply(\n",
        "    lambda row: check_differential_diagnosis(row['diagnosis'], row['differential_diagnoses']),\n",
        "    axis=1\n",
        ")\n",
        "\n",
        "print(combined_data[['patient_id', 'diagnosis', 'correct_diagnosis']])"
      ],
      "metadata": {
        "colab": {
          "base_uri": "https://localhost:8080/"
        },
        "id": "aHKa5p4Eo9Br",
        "outputId": "aaabcb4a-4ff3-426c-a0e0-6d903b317afa"
      },
      "id": "aHKa5p4Eo9Br",
      "execution_count": 4,
      "outputs": [
        {
          "output_type": "stream",
          "name": "stdout",
          "text": [
            "   patient_id      diagnosis  correct_diagnosis\n",
            "0           1    Lung Cancer              False\n",
            "1           2  Breast Cancer              False\n"
          ]
        }
      ]
    },
    {
      "cell_type": "code",
      "source": [
        "### 4. **Order and Analyze Test Panels:**\n",
        "# Simulate ordering test panels based on patient diagnosis.\n",
        "\n",
        "# Define test panels based on diagnosis\n",
        "test_panels = {\n",
        "    'Lung Cancer': ['CT Scan', 'Biopsy', 'Oncology Panel'],\n",
        "    'Breast Cancer': ['Mammogram', 'Biopsy', 'Oncology Panel']\n",
        "}\n",
        "\n",
        "# Add test panel data to patient records\n",
        "combined_data['ordered_tests'] = combined_data['diagnosis'].map(test_panels)\n",
        "\n",
        "# Simulate test results\n",
        "import random\n",
        "\n",
        "def simulate_test_results(tests):\n",
        "    results = {}\n",
        "    for test in tests:\n",
        "        results[test] = random.choice(['Positive', 'Negative', 'Inconclusive'])\n",
        "    return results\n",
        "\n",
        "combined_data['test_results'] = combined_data['ordered_tests'].apply(simulate_test_results)\n",
        "\n",
        "print(combined_data[['patient_id', 'diagnosis', 'ordered_tests', 'test_results']])"
      ],
      "metadata": {
        "colab": {
          "base_uri": "https://localhost:8080/"
        },
        "id": "8rw8FuXKpgnR",
        "outputId": "f921aa46-d529-4e69-8eca-704cbdc61656"
      },
      "id": "8rw8FuXKpgnR",
      "execution_count": 5,
      "outputs": [
        {
          "output_type": "stream",
          "name": "stdout",
          "text": [
            "   patient_id      diagnosis                        ordered_tests  \\\n",
            "0           1    Lung Cancer    [CT Scan, Biopsy, Oncology Panel]   \n",
            "1           2  Breast Cancer  [Mammogram, Biopsy, Oncology Panel]   \n",
            "\n",
            "                                        test_results  \n",
            "0  {'CT Scan': 'Negative', 'Biopsy': 'Inconclusiv...  \n",
            "1  {'Mammogram': 'Inconclusive', 'Biopsy': 'Negat...  \n"
          ]
        }
      ]
    },
    {
      "cell_type": "code",
      "source": [
        "### 5. **Analyze and Report Results:**\n",
        "# Create a summary of the analysis.\n",
        "\n",
        "# Summary report\n",
        "summary = combined_data[['patient_id', 'diagnosis', 'correct_diagnosis', 'ordered_tests', 'test_results']]\n",
        "print(summary)\n",
        "\n",
        "### Additional Considerations:\n",
        "#- **Data Storage:** Ensure you have a database or other storage solution for handling patient data securely.\n",
        "#- **Model Training:** If more complex models are required, you can train machine learning models using libraries like `scikit-learn`, `TensorFlow`, or `PyTorch`.\n",
        "#- **Visualization:** For complex data, consider using `Plotly`, `Matplotlib`, or `Seaborn` to create interactive visualizations.\n",
        "\n",
        "### Final Note:\n",
        "#This code provides a basic framework and can be expanded based on specific requirements. Depending on the complexity of your data and the specifics of your analysis, more advanced techniques and tools might be needed."
      ],
      "metadata": {
        "colab": {
          "base_uri": "https://localhost:8080/"
        },
        "id": "beft-RITpp4h",
        "outputId": "03a17a46-320e-46fc-ccee-c9c039d2aedc"
      },
      "id": "beft-RITpp4h",
      "execution_count": 6,
      "outputs": [
        {
          "output_type": "stream",
          "name": "stdout",
          "text": [
            "   patient_id      diagnosis  correct_diagnosis  \\\n",
            "0           1    Lung Cancer              False   \n",
            "1           2  Breast Cancer              False   \n",
            "\n",
            "                         ordered_tests  \\\n",
            "0    [CT Scan, Biopsy, Oncology Panel]   \n",
            "1  [Mammogram, Biopsy, Oncology Panel]   \n",
            "\n",
            "                                        test_results  \n",
            "0  {'CT Scan': 'Negative', 'Biopsy': 'Inconclusiv...  \n",
            "1  {'Mammogram': 'Inconclusive', 'Biopsy': 'Negat...  \n"
          ]
        }
      ]
    }
  ],
  "metadata": {
    "kernelspec": {
      "display_name": "Python 3 (ipykernel)",
      "language": "python",
      "name": "python3"
    },
    "language_info": {
      "codemirror_mode": {
        "name": "ipython",
        "version": 3
      },
      "file_extension": ".py",
      "mimetype": "text/x-python",
      "name": "python",
      "nbconvert_exporter": "python",
      "pygments_lexer": "ipython3",
      "version": "3.11.5"
    },
    "colab": {
      "provenance": [],
      "include_colab_link": true
    }
  },
  "nbformat": 4,
  "nbformat_minor": 5
}